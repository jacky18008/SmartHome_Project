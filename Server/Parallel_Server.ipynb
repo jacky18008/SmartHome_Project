{
 "cells": [
  {
   "cell_type": "code",
   "execution_count": 17,
   "metadata": {
    "collapsed": false
   },
   "outputs": [],
   "source": [
    "# run a client\n",
    "def client(ip_list, username_list, password_list, local_ip, port):\n",
    "    import subprocess\n",
    "    \n",
    "    processes = set()\n",
    "    \n",
    "    for i in range(len(ip_list)):\n",
    "        print(\"working on subprocess\", i)\n",
    "        processes.add(subprocess.Popen(['sh', 'login.sh' , str(ip_list[i]), str(username_list[i]), str(password_list[i]), str(local_ip), str(port)]))\n",
    "        print(\"finish working on subprocess\", i)\n",
    "\n",
    "        \n",
    "        "
   ]
  },
  {
   "cell_type": "code",
   "execution_count": 18,
   "metadata": {
    "collapsed": false
   },
   "outputs": [
    {
     "name": "stdout",
     "output_type": "stream",
     "text": [
      "current_port:  59323\n",
      "working on subprocess 0\n",
      "finish working on subprocess 0\n",
      "working on subprocess 1\n",
      "finish working on subprocess 1\n"
     ]
    }
   ],
   "source": [
    "import time\n",
    "import socket\n",
    "import threading\n",
    "import socketserver\n",
    "\n",
    "\n",
    "server_socket = socket.socket(socket.AF_INET, socket.SOCK_STREAM)\n",
    "server_socket.bind((\"\", 0))\n",
    "\n",
    "#number of server can hold\n",
    "server_socket.listen(1024)\n",
    "\n",
    "#get current port, set host.\n",
    "local_ip = server_socket.getsockname()[0]\n",
    "port = server_socket.getsockname()[1]\n",
    "print (\"current_port: \", port)\n",
    "host = \"localhost\"\n",
    "\n",
    "ip_list = []\n",
    "user_name_list = []\n",
    "password_list = []\n",
    "\n",
    "ip_list.append(\"140.119.65.87\")\n",
    "user_name_list.append(\"jacky18008\")\n",
    "password_list.append(\"Samsungace3\")\n",
    "\n",
    "ip_list.append(\"140.119.65.135\")\n",
    "user_name_list.append(\"mathlab115\")\n",
    "password_list.append(\"math701\")\n",
    "\n",
    "client(ip_list, user_name_list, password_list, local_ip, port)"
   ]
  },
  {
   "cell_type": "code",
   "execution_count": 2,
   "metadata": {
    "collapsed": false
   },
   "outputs": [
    {
     "ename": "SyntaxError",
     "evalue": "unexpected EOF while parsing (<ipython-input-2-20349ed4cf90>, line 2)",
     "output_type": "error",
     "traceback": [
      "\u001b[0;36m  File \u001b[0;32m\"<ipython-input-2-20349ed4cf90>\"\u001b[0;36m, line \u001b[0;32m2\u001b[0m\n\u001b[0;31m    def __init__():\u001b[0m\n\u001b[0m                   ^\u001b[0m\n\u001b[0;31mSyntaxError\u001b[0m\u001b[0;31m:\u001b[0m unexpected EOF while parsing\n"
     ]
    }
   ],
   "source": [
    "client_dict = {}\n",
    "    "
   ]
  },
  {
   "cell_type": "code",
   "execution_count": null,
   "metadata": {
    "collapsed": true
   },
   "outputs": [],
   "source": []
  }
 ],
 "metadata": {
  "kernelspec": {
   "display_name": "Python 3",
   "language": "python",
   "name": "python3"
  },
  "language_info": {
   "codemirror_mode": {
    "name": "ipython",
    "version": 3
   },
   "file_extension": ".py",
   "mimetype": "text/x-python",
   "name": "python",
   "nbconvert_exporter": "python",
   "pygments_lexer": "ipython3",
   "version": "3.5.2"
  }
 },
 "nbformat": 4,
 "nbformat_minor": 0
}
