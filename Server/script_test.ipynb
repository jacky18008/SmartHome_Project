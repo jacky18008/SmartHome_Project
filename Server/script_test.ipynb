{
 "cells": [
  {
   "cell_type": "code",
   "execution_count": null,
   "metadata": {
    "collapsed": true
   },
   "outputs": [],
   "source": [
    "import socket\n",
    "import threading\n",
    "import socketserver\n",
    "\n",
    "class ThreadedTCPRequestHandler(socketserver.BaseRequestHandler):\n",
    "\n",
    "    def handle(self):\n",
    "        data = str(self.request.recv(1024), 'ascii')\n",
    "        cur_thread = threading.current_thread()\n",
    "        response = bytes(\"{}: {}\".format(cur_thread.name, data), 'ascii')\n",
    "        self.request.sendall(response)\n",
    "\n",
    "class ThreadedTCPServer(socketserver.ThreadingMixIn, socketserver.TCPServer):\n",
    "    pass\n",
    "\n",
    "def client(ip, port, message):\n",
    "    with socket.socket(socket.AF_INET, socket.SOCK_STREAM) as sock:\n",
    "        sock.connect((ip, port))\n",
    "        sock.sendall(bytes(message, 'ascii'))\n",
    "        response = str(sock.recv(1024), 'ascii')\n",
    "        print(\"Received: {}\".format(response))\n",
    "\n",
    "if __name__ == \"__main__\":\n",
    "    # Port 0 means to select an arbitrary unused port\n",
    "    HOST, PORT = \"localhost\", 0\n",
    "\n",
    "    server = ThreadedTCPServer((HOST, PORT), ThreadedTCPRequestHandler)\n",
    "    with server:\n",
    "        ip, port = server.server_address\n",
    "\n",
    "        # Start a thread with the server -- that thread will then start one\n",
    "        # more thread for each request\n",
    "        server_thread = threading.Thread(target=server.serve_forever)\n",
    "        # Exit the server thread when the main thread terminates\n",
    "        server_thread.daemon = True\n",
    "        server_thread.start()\n",
    "        print(\"Server loop running in thread:\", server_thread.name)\n",
    "\n",
    "        client(ip, port, \"Hello World 1\")\n",
    "        client(ip, port, \"Hello World 2\")\n",
    "        client(ip, port, \"Hello World 3\")\n",
    "\n",
    "        server.shutdown()"
   ]
  },
  {
   "cell_type": "code",
   "execution_count": null,
   "metadata": {
    "collapsed": true
   },
   "outputs": [],
   "source": []
  }
 ],
 "metadata": {
  "kernelspec": {
   "display_name": "Python 3",
   "language": "python",
   "name": "python3"
  },
  "language_info": {
   "codemirror_mode": {
    "name": "ipython",
    "version": 3
   },
   "file_extension": ".py",
   "mimetype": "text/x-python",
   "name": "python",
   "nbconvert_exporter": "python",
   "pygments_lexer": "ipython3",
   "version": "3.5.2"
  }
 },
 "nbformat": 4,
 "nbformat_minor": 0
}
